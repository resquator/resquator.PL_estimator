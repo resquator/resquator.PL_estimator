{
 "cells": [
  {
   "cell_type": "code",
<<<<<<< HEAD
   "execution_count": 69,
=======
   "execution_count": 207,
>>>>>>> 0325037 (pull)
   "metadata": {},
   "outputs": [],
   "source": [
    "from bs4 import BeautifulSoup\n",
    "import requests\n",
    "\n",
    "import pandas as pd\n",
    "import numpy as np"
   ]
  },
  {
   "cell_type": "code",
<<<<<<< HEAD
   "execution_count": 70,
=======
   "execution_count": 208,
>>>>>>> 0325037 (pull)
   "metadata": {},
   "outputs": [],
   "source": [
    "def extract_game_data(game):\n",
    "    teams = game.find(class_='h-text-left').get_text()\n",
    "    score = game.find(class_='h-text-center').get_text()\n",
    "    odds = game.find_all(class_='table-main__odds')\n",
    "    for g in game.find_all('a',href=True):\n",
    "        game_url=g['href']\n",
    "    bets=[]\n",
    "    winner=np.nan\n",
    "    w=-1\n",
    "    for odd in odds:\n",
    "        w = w+1\n",
    "        if odd.has_attr('data-odd'):\n",
    "            #print(odd.attrs['data-odd'])\n",
    "            bets.append(odd.attrs['data-odd'])\n",
    "        else:\n",
    "            # this is colored cell\n",
    "            spans = odd.find('span')\n",
    "            for span in spans:\n",
    "                #print(span.find('span').attrs['data-odd'])\n",
    "                bets.append(span.find('span').attrs['data-odd'])\n",
    "                winner=w\n",
    "    date = game.find(class_='h-text-right').get_text()\n",
    "\n",
    "    # split team to home_team and away_team\n",
    "    t = teams.split(' - ')\n",
    "    home_team = t[0]\n",
    "    away_team = t[1]\n",
    "    try:\n",
    "        return teams, home_team, away_team, score, bets[0], bets[1], bets[2], date, winner, game_url\n",
    "    except:\n",
    "        return teams, home_team, away_team, score, bets, bets, bets, date, winner, game_url\n"
   ]
  },
  {
   "cell_type": "code",
<<<<<<< HEAD
   "execution_count": 71,
=======
   "execution_count": 209,
>>>>>>> 0325037 (pull)
   "metadata": {},
   "outputs": [
    {
     "name": "stdout",
     "output_type": "stream",
     "text": [
      "(1, 1)\n"
     ]
    },
    {
     "data": {
      "text/plain": [
       "['https://www.betexplorer.com/soccer/england/premier-league-2021-2022/results/']"
      ]
     },
<<<<<<< HEAD
     "execution_count": 71,
=======
     "execution_count": 209,
>>>>>>> 0325037 (pull)
     "metadata": {},
     "output_type": "execute_result"
    }
   ],
   "source": [
    "# open the urls forlder and read urls files to get pages to scrap\n",
    "SRC_FOLDER = '../../src/urls'\n",
    "FILENAME = 'urls.csv'\n",
    "\n",
    "TABLE_FOLDER = '../../src/data'\n",
    "RAW_FILE = 'games_2000_2022.csv'\n",
    "\n",
    "\n",
    "urls = pd.read_csv(f'{SRC_FOLDER}/{FILENAME}')\n",
    "#urls.columns=['url']\n",
    "print(urls.shape)\n",
    "urlslist = urls.urllink.tolist()\n",
    "urlslist\n",
    "\n"
   ]
  },
  {
   "cell_type": "code",
<<<<<<< HEAD
   "execution_count": 72,
=======
   "execution_count": 210,
>>>>>>> 0325037 (pull)
   "metadata": {},
   "outputs": [],
   "source": [
    "urlslist=[]\n",
    "for y in range(2000,2022):\n",
    "\n",
    "    url = f'https://www.betexplorer.com/soccer/england/premier-league-{y}-{y+1}/results/'\n",
    "    urlslist.append(url)"
   ]
  },
  {
   "cell_type": "code",
<<<<<<< HEAD
   "execution_count": 73,
=======
   "execution_count": 211,
>>>>>>> 0325037 (pull)
   "metadata": {},
   "outputs": [],
   "source": [
    "games = []\n",
    "\n",
    "# get all table row from the page source\n",
    "for url in urlslist:\n",
    "    pos = url.split('/')\n",
    "    page = requests.get(url)\n",
    "    soup = BeautifulSoup(page.content, 'html.parser')\n",
    "    tag_tr = soup.find_all('tr')\n",
    "\n",
    "# table row interesting me is those with odd-data\n",
    "    tags=[]\n",
    "    for tag in tag_tr:\n",
    "        if 'data-odd' in str(tag):\n",
    "            tags.append(tag)\n",
    "\n",
    "# iterate through the list of table row\n",
    "# each row is agame with 6 fields\n",
    "    \"\"\"\n",
    "    - the game (home, away team)\n",
    "    - correct score\n",
    "    - 3 odds (1,N,2)\n",
    "    - game date\n",
    "    \"\"\"\n",
    "\n",
    "    from inspect import classify_class_attrs\n",
    "\n",
    "\n",
    "    for tag in tags:\n",
    "        p=str(tag)\n",
    "        game =  BeautifulSoup(p, 'html.parser')    \n",
    "        teams, home_team, away_team, score, odd_1, odd_N, odd_2, date, winner, game_url = extract_game_data(game)\n",
    "\n",
    "        # COMPUTE DATE\n",
    "        \"\"\"\n",
    "        if month is >= 01 so its year +1 elese it's year\n",
    "        \"\"\"\n",
    "        years = pos[5].split('-')\n",
    "        ds = date.split('.')\n",
    "        c_date=date\n",
    "        if len(date)==6:\n",
    "            if int(ds[1])>=7:\n",
    "                c_date = f'{date}{years[2]}'\n",
    "            else:\n",
    "                c_date = f'{date}{years[3]}'\n",
    "\n",
    "\n",
    "        games.append([c_date, home_team, away_team, score, odd_1, odd_N, odd_2, winner,pos[5], game_url])\n",
    "\n",
    "        # get the game\n",
    "\n"
   ]
  },
  {
   "cell_type": "code",
<<<<<<< HEAD
   "execution_count": 74,
=======
   "execution_count": 212,
>>>>>>> 0325037 (pull)
   "metadata": {},
   "outputs": [
    {
     "data": {
      "text/html": [
       "<div>\n",
       "<style scoped>\n",
       "    .dataframe tbody tr th:only-of-type {\n",
       "        vertical-align: middle;\n",
       "    }\n",
       "\n",
       "    .dataframe tbody tr th {\n",
       "        vertical-align: top;\n",
       "    }\n",
       "\n",
       "    .dataframe thead th {\n",
       "        text-align: right;\n",
       "    }\n",
       "</style>\n",
       "<table border=\"1\" class=\"dataframe\">\n",
       "  <thead>\n",
       "    <tr style=\"text-align: right;\">\n",
       "      <th></th>\n",
       "      <th>date</th>\n",
       "      <th>home_team</th>\n",
       "      <th>away_team</th>\n",
       "      <th>score</th>\n",
       "      <th>odd_1</th>\n",
       "      <th>odd_N</th>\n",
       "      <th>odd_2</th>\n",
       "      <th>winner</th>\n",
       "      <th>league_season</th>\n",
       "      <th>game_url</th>\n",
       "    </tr>\n",
       "  </thead>\n",
       "  <tbody>\n",
       "    <tr>\n",
       "      <th>0</th>\n",
       "      <td>19.05.2001</td>\n",
       "      <td>Charlton</td>\n",
       "      <td>Liverpool</td>\n",
       "      <td>0:4</td>\n",
       "      <td>3.60</td>\n",
       "      <td>3.60</td>\n",
       "      <td>1.70</td>\n",
       "      <td>2.0</td>\n",
       "      <td>premier-league-2000-2001</td>\n",
       "      <td>/soccer/england/premier-league-2000-2001/charl...</td>\n",
       "    </tr>\n",
       "    <tr>\n",
       "      <th>1</th>\n",
       "      <td>19.05.2001</td>\n",
       "      <td>Coventry</td>\n",
       "      <td>Bradford City</td>\n",
       "      <td>0:0</td>\n",
       "      <td>1.79</td>\n",
       "      <td>3.30</td>\n",
       "      <td>3.80</td>\n",
       "      <td>1.0</td>\n",
       "      <td>premier-league-2000-2001</td>\n",
       "      <td>/soccer/england/premier-league-2000-2001/coven...</td>\n",
       "    </tr>\n",
       "    <tr>\n",
       "      <th>2</th>\n",
       "      <td>19.05.2001</td>\n",
       "      <td>Derby</td>\n",
       "      <td>Ipswich</td>\n",
       "      <td>1:1</td>\n",
       "      <td>3.50</td>\n",
       "      <td>3.30</td>\n",
       "      <td>1.96</td>\n",
       "      <td>1.0</td>\n",
       "      <td>premier-league-2000-2001</td>\n",
       "      <td>/soccer/england/premier-league-2000-2001/derby...</td>\n",
       "    </tr>\n",
       "    <tr>\n",
       "      <th>3</th>\n",
       "      <td>19.05.2001</td>\n",
       "      <td>Everton</td>\n",
       "      <td>Sunderland</td>\n",
       "      <td>2:2</td>\n",
       "      <td>2.50</td>\n",
       "      <td>3.10</td>\n",
       "      <td>2.50</td>\n",
       "      <td>1.0</td>\n",
       "      <td>premier-league-2000-2001</td>\n",
       "      <td>/soccer/england/premier-league-2000-2001/evert...</td>\n",
       "    </tr>\n",
       "    <tr>\n",
       "      <th>4</th>\n",
       "      <td>19.05.2001</td>\n",
       "      <td>Leeds</td>\n",
       "      <td>Leicester</td>\n",
       "      <td>3:1</td>\n",
       "      <td>1.27</td>\n",
       "      <td>4.50</td>\n",
       "      <td>9.99</td>\n",
       "      <td>0.0</td>\n",
       "      <td>premier-league-2000-2001</td>\n",
       "      <td>/soccer/england/premier-league-2000-2001/leeds...</td>\n",
       "    </tr>\n",
       "    <tr>\n",
       "      <th>...</th>\n",
       "      <td>...</td>\n",
       "      <td>...</td>\n",
       "      <td>...</td>\n",
       "      <td>...</td>\n",
       "      <td>...</td>\n",
       "      <td>...</td>\n",
       "      <td>...</td>\n",
       "      <td>...</td>\n",
       "      <td>...</td>\n",
       "      <td>...</td>\n",
       "    </tr>\n",
       "    <tr>\n",
       "      <th>8348</th>\n",
       "      <td>14.08.2021</td>\n",
       "      <td>Leicester</td>\n",
       "      <td>Wolves</td>\n",
       "      <td>1:0</td>\n",
       "      <td>1.74</td>\n",
       "      <td>3.73</td>\n",
       "      <td>5.06</td>\n",
       "      <td>0.0</td>\n",
       "      <td>premier-league-2021-2022</td>\n",
       "      <td>/soccer/england/premier-league-2021-2022/leice...</td>\n",
       "    </tr>\n",
       "    <tr>\n",
       "      <th>8349</th>\n",
       "      <td>14.08.2021</td>\n",
       "      <td>Manchester Utd</td>\n",
       "      <td>Leeds</td>\n",
       "      <td>5:1</td>\n",
       "      <td>1.64</td>\n",
       "      <td>4.19</td>\n",
       "      <td>5.21</td>\n",
       "      <td>0.0</td>\n",
       "      <td>premier-league-2021-2022</td>\n",
       "      <td>/soccer/england/premier-league-2021-2022/manch...</td>\n",
       "    </tr>\n",
       "    <tr>\n",
       "      <th>8350</th>\n",
       "      <td>14.08.2021</td>\n",
       "      <td>Norwich</td>\n",
       "      <td>Liverpool</td>\n",
       "      <td>0:3</td>\n",
       "      <td>6.75</td>\n",
       "      <td>4.85</td>\n",
       "      <td>1.46</td>\n",
       "      <td>2.0</td>\n",
       "      <td>premier-league-2021-2022</td>\n",
       "      <td>/soccer/england/premier-league-2021-2022/norwi...</td>\n",
       "    </tr>\n",
       "    <tr>\n",
       "      <th>8351</th>\n",
       "      <td>14.08.2021</td>\n",
       "      <td>Watford</td>\n",
       "      <td>Aston Villa</td>\n",
       "      <td>3:2</td>\n",
       "      <td>3.51</td>\n",
       "      <td>3.30</td>\n",
       "      <td>2.21</td>\n",
       "      <td>0.0</td>\n",
       "      <td>premier-league-2021-2022</td>\n",
       "      <td>/soccer/england/premier-league-2021-2022/watfo...</td>\n",
       "    </tr>\n",
       "    <tr>\n",
       "      <th>8352</th>\n",
       "      <td>13.08.2021</td>\n",
       "      <td>Brentford</td>\n",
       "      <td>Arsenal</td>\n",
       "      <td>2:0</td>\n",
       "      <td>3.88</td>\n",
       "      <td>3.27</td>\n",
       "      <td>2.10</td>\n",
       "      <td>0.0</td>\n",
       "      <td>premier-league-2021-2022</td>\n",
       "      <td>/soccer/england/premier-league-2021-2022/brent...</td>\n",
       "    </tr>\n",
       "  </tbody>\n",
       "</table>\n",
       "<p>8353 rows × 10 columns</p>\n",
       "</div>"
      ],
      "text/plain": [
<<<<<<< HEAD
       "            date       home_team      away_team score odd_1 odd_N odd_2  \\\n",
       "0     19.05.2001        Charlton      Liverpool   0:4  3.60  3.60  1.70   \n",
       "1     19.05.2001        Coventry  Bradford City   0:0  1.79  3.30  3.80   \n",
       "2     19.05.2001           Derby        Ipswich   1:1  3.50  3.30  1.96   \n",
       "3     19.05.2001         Everton     Sunderland   2:2  2.50  3.10  2.50   \n",
       "4     19.05.2001           Leeds      Leicester   3:1  1.27  4.50  9.99   \n",
       "...          ...             ...            ...   ...   ...   ...   ...   \n",
       "8348  14.08.2021       Leicester         Wolves   1:0  1.74  3.73  5.06   \n",
       "8349  14.08.2021  Manchester Utd          Leeds   5:1  1.64  4.19  5.21   \n",
       "8350  14.08.2021         Norwich      Liverpool   0:3  6.75  4.85  1.46   \n",
       "8351  14.08.2021         Watford    Aston Villa   3:2  3.51  3.30  2.21   \n",
       "8352  13.08.2021       Brentford        Arsenal   2:0  3.88  3.27  2.10   \n",
       "\n",
       "      winner             league_season  \\\n",
       "0        2.0  premier-league-2000-2001   \n",
       "1        1.0  premier-league-2000-2001   \n",
       "2        1.0  premier-league-2000-2001   \n",
       "3        1.0  premier-league-2000-2001   \n",
       "4        0.0  premier-league-2000-2001   \n",
       "...      ...                       ...   \n",
       "8348     0.0  premier-league-2021-2022   \n",
       "8349     0.0  premier-league-2021-2022   \n",
       "8350     2.0  premier-league-2021-2022   \n",
       "8351     0.0  premier-league-2021-2022   \n",
       "8352     0.0  premier-league-2021-2022   \n",
       "\n",
       "                                               game_url  \n",
       "0     /soccer/england/premier-league-2000-2001/charl...  \n",
       "1     /soccer/england/premier-league-2000-2001/coven...  \n",
       "2     /soccer/england/premier-league-2000-2001/derby...  \n",
       "3     /soccer/england/premier-league-2000-2001/evert...  \n",
       "4     /soccer/england/premier-league-2000-2001/leeds...  \n",
       "...                                                 ...  \n",
       "8348  /soccer/england/premier-league-2021-2022/leice...  \n",
       "8349  /soccer/england/premier-league-2021-2022/manch...  \n",
       "8350  /soccer/england/premier-league-2021-2022/norwi...  \n",
       "8351  /soccer/england/premier-league-2021-2022/watfo...  \n",
       "8352  /soccer/england/premier-league-2021-2022/brent...  \n",
       "\n",
       "[8353 rows x 10 columns]"
      ]
     },
     "execution_count": 74,
=======
       "            date  ...                                           game_url\n",
       "0     19.05.2001  ...  /soccer/england/premier-league-2000-2001/charl...\n",
       "1     19.05.2001  ...  /soccer/england/premier-league-2000-2001/coven...\n",
       "2     19.05.2001  ...  /soccer/england/premier-league-2000-2001/derby...\n",
       "3     19.05.2001  ...  /soccer/england/premier-league-2000-2001/evert...\n",
       "4     19.05.2001  ...  /soccer/england/premier-league-2000-2001/leeds...\n",
       "...          ...  ...                                                ...\n",
       "8348  14.08.2021  ...  /soccer/england/premier-league-2021-2022/leice...\n",
       "8349  14.08.2021  ...  /soccer/england/premier-league-2021-2022/manch...\n",
       "8350  14.08.2021  ...  /soccer/england/premier-league-2021-2022/norwi...\n",
       "8351  14.08.2021  ...  /soccer/england/premier-league-2021-2022/watfo...\n",
       "8352  13.08.2021  ...  /soccer/england/premier-league-2021-2022/brent...\n",
       "\n",
       "[8353 rows x 10 columns]"
      ]
     },
     "execution_count": 212,
>>>>>>> 0325037 (pull)
     "metadata": {},
     "output_type": "execute_result"
    }
   ],
   "source": [
    "games=pd.DataFrame(games)\n",
    "games.columns = ['date','home_team','away_team','score','odd_1','odd_N','odd_2','winner','league_season','game_url']\n",
    "games"
   ]
  },
  {
   "cell_type": "code",
<<<<<<< HEAD
   "execution_count": 75,
=======
   "execution_count": 213,
>>>>>>> 0325037 (pull)
   "metadata": {},
   "outputs": [
    {
     "data": {
      "text/plain": [
       "date             0\n",
       "home_team        0\n",
       "away_team        0\n",
       "score            0\n",
       "odd_1            0\n",
       "odd_N            0\n",
       "odd_2            0\n",
       "winner           1\n",
       "league_season    0\n",
       "game_url         0\n",
       "dtype: int64"
      ]
     },
<<<<<<< HEAD
     "execution_count": 75,
=======
     "execution_count": 213,
>>>>>>> 0325037 (pull)
     "metadata": {},
     "output_type": "execute_result"
    }
   ],
   "source": [
    "games.isnull().sum()"
   ]
  },
  {
   "cell_type": "code",
<<<<<<< HEAD
   "execution_count": 76,
=======
   "execution_count": 214,
>>>>>>> 0325037 (pull)
   "metadata": {},
   "outputs": [],
   "source": [
    "games.to_csv(f'{TABLE_FOLDER}/{RAW_FILE}')"
   ]
  },
  {
   "cell_type": "code",
   "execution_count": 77,
   "metadata": {},
   "outputs": [
    {
     "data": {
      "text/plain": [
       "(8353, 10)"
      ]
     },
     "execution_count": 77,
     "metadata": {},
     "output_type": "execute_result"
    }
   ],
   "source": [
    "games.shape"
   ]
  },
  {
   "cell_type": "code",
   "execution_count": null,
   "metadata": {},
   "outputs": [],
   "source": []
  }
 ],
 "metadata": {
  "kernelspec": {
   "display_name": "Python 3.10.1 64-bit",
   "language": "python",
   "name": "python3"
  },
  "language_info": {
   "codemirror_mode": {
    "name": "ipython",
    "version": 3
   },
   "file_extension": ".py",
   "mimetype": "text/x-python",
   "name": "python",
   "nbconvert_exporter": "python",
   "pygments_lexer": "ipython3",
   "version": "3.9.7"
  },
  "orig_nbformat": 4,
  "vscode": {
   "interpreter": {
    "hash": "aee8b7b246df8f9039afb4144a1f6fd8d2ca17a180786b69acc140d282b71a49"
   }
  }
 },
 "nbformat": 4,
 "nbformat_minor": 2
}
