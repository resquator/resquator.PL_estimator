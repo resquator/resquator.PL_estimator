{
 "cells": [
  {
   "cell_type": "code",
   "execution_count": 1,
   "metadata": {},
   "outputs": [],
   "source": [
    "import pandas as pd\n",
    "import numpy as np\n",
    "import matplotlib as plt\n",
    "\n",
    "%matplotlib inline"
   ]
  },
  {
   "cell_type": "code",
   "execution_count": 2,
   "metadata": {},
   "outputs": [
    {
     "data": {
      "text/plain": [
       "(8179, 10)"
      ]
     },
     "execution_count": 2,
     "metadata": {},
     "output_type": "execute_result"
    }
   ],
   "source": [
    "\n",
    "TABLE_FOLDER = '../../src/data'\n",
    "RAW_FILE = 'modeling_v1_data.csv'\n",
    "\n",
    "data = pd.read_csv(f'{TABLE_FOLDER}/{RAW_FILE}')\n",
    "data.drop('Unnamed: 0', axis=1, inplace=True)\n",
    "data.shape"
   ]
  },
  {
   "cell_type": "code",
   "execution_count": 3,
   "metadata": {},
   "outputs": [
    {
     "data": {
      "text/html": [
       "<div>\n",
       "<style scoped>\n",
       "    .dataframe tbody tr th:only-of-type {\n",
       "        vertical-align: middle;\n",
       "    }\n",
       "\n",
       "    .dataframe tbody tr th {\n",
       "        vertical-align: top;\n",
       "    }\n",
       "\n",
       "    .dataframe thead th {\n",
       "        text-align: right;\n",
       "    }\n",
       "</style>\n",
       "<table border=\"1\" class=\"dataframe\">\n",
       "  <thead>\n",
       "    <tr style=\"text-align: right;\">\n",
       "      <th></th>\n",
       "      <th>last_5_home</th>\n",
       "      <th>last_5_away</th>\n",
       "      <th>last_h_goals</th>\n",
       "      <th>last_a_goals</th>\n",
       "      <th>last_wh_goals</th>\n",
       "      <th>last_wa_goals</th>\n",
       "      <th>odd_1</th>\n",
       "      <th>odd_N</th>\n",
       "      <th>odd_2</th>\n",
       "      <th>winner</th>\n",
       "    </tr>\n",
       "  </thead>\n",
       "  <tbody>\n",
       "    <tr>\n",
       "      <th>0</th>\n",
       "      <td>La/Wh/Wa/Dh/La</td>\n",
       "      <td>Dh/Wh/Wa/Wa/Wh</td>\n",
       "      <td>9.0</td>\n",
       "      <td>12.0</td>\n",
       "      <td>8.0</td>\n",
       "      <td>3.0</td>\n",
       "      <td>3.60</td>\n",
       "      <td>3.6</td>\n",
       "      <td>1.70</td>\n",
       "      <td>2.0</td>\n",
       "    </tr>\n",
       "    <tr>\n",
       "      <th>1</th>\n",
       "      <td>La/Lh/La/Wh/La</td>\n",
       "      <td>La/Dh/Lh/La/Wh</td>\n",
       "      <td>11.0</td>\n",
       "      <td>5.0</td>\n",
       "      <td>5.0</td>\n",
       "      <td>11.0</td>\n",
       "      <td>1.79</td>\n",
       "      <td>3.3</td>\n",
       "      <td>3.80</td>\n",
       "      <td>1.0</td>\n",
       "    </tr>\n",
       "    <tr>\n",
       "      <th>2</th>\n",
       "      <td>Wa/Lh/La/Wh/La</td>\n",
       "      <td>Wh/La/Wh/Wa/Wh</td>\n",
       "      <td>7.0</td>\n",
       "      <td>8.0</td>\n",
       "      <td>5.0</td>\n",
       "      <td>4.0</td>\n",
       "      <td>3.50</td>\n",
       "      <td>3.3</td>\n",
       "      <td>1.96</td>\n",
       "      <td>1.0</td>\n",
       "    </tr>\n",
       "    <tr>\n",
       "      <th>3</th>\n",
       "      <td>La/Wh/La/Lh/La</td>\n",
       "      <td>Wh/Wa/Dh/La/Lh</td>\n",
       "      <td>12.0</td>\n",
       "      <td>7.0</td>\n",
       "      <td>7.0</td>\n",
       "      <td>7.0</td>\n",
       "      <td>2.50</td>\n",
       "      <td>3.1</td>\n",
       "      <td>2.50</td>\n",
       "      <td>1.0</td>\n",
       "    </tr>\n",
       "    <tr>\n",
       "      <th>4</th>\n",
       "      <td>Wh/La/Wh/Wa/Wa</td>\n",
       "      <td>Wh/La/Lh/La/Lh</td>\n",
       "      <td>4.0</td>\n",
       "      <td>5.0</td>\n",
       "      <td>13.0</td>\n",
       "      <td>10.0</td>\n",
       "      <td>1.27</td>\n",
       "      <td>4.5</td>\n",
       "      <td>9.99</td>\n",
       "      <td>0.0</td>\n",
       "    </tr>\n",
       "  </tbody>\n",
       "</table>\n",
       "</div>"
      ],
      "text/plain": [
       "      last_5_home     last_5_away  last_h_goals  last_a_goals  last_wh_goals  \\\n",
       "0  La/Wh/Wa/Dh/La  Dh/Wh/Wa/Wa/Wh           9.0          12.0            8.0   \n",
       "1  La/Lh/La/Wh/La  La/Dh/Lh/La/Wh          11.0           5.0            5.0   \n",
       "2  Wa/Lh/La/Wh/La  Wh/La/Wh/Wa/Wh           7.0           8.0            5.0   \n",
       "3  La/Wh/La/Lh/La  Wh/Wa/Dh/La/Lh          12.0           7.0            7.0   \n",
       "4  Wh/La/Wh/Wa/Wa  Wh/La/Lh/La/Lh           4.0           5.0           13.0   \n",
       "\n",
       "   last_wa_goals  odd_1  odd_N  odd_2  winner  \n",
       "0            3.0   3.60    3.6   1.70     2.0  \n",
       "1           11.0   1.79    3.3   3.80     1.0  \n",
       "2            4.0   3.50    3.3   1.96     1.0  \n",
       "3            7.0   2.50    3.1   2.50     1.0  \n",
       "4           10.0   1.27    4.5   9.99     0.0  "
      ]
     },
     "execution_count": 3,
     "metadata": {},
     "output_type": "execute_result"
    }
   ],
   "source": [
    "data.head()"
   ]
  },
  {
   "cell_type": "code",
   "execution_count": 4,
   "metadata": {},
   "outputs": [],
   "source": [
    "X = data.drop('winner', axis=1)\n",
    "y = data.winner\n",
    "from sklearn.model_selection import train_test_split\n",
    "\n",
    "X_train, X_test, y_train, y_test = train_test_split(X, y, test_size=0.2)"
   ]
  },
  {
   "cell_type": "code",
   "execution_count": 5,
   "metadata": {},
   "outputs": [],
   "source": [
    "from sklearn.pipeline import Pipeline\n",
    "from sklearn.impute import SimpleImputer\n",
    "from sklearn.preprocessing import StandardScaler, OneHotEncoder\n",
    "numeric_transformer = Pipeline(steps=[\n",
    "    ('imputer', SimpleImputer(strategy='median')),\n",
    "    ('scaler', StandardScaler())])\n",
    "categorical_transformer = Pipeline(steps=[\n",
    "    ('imputer', SimpleImputer(strategy='constant', fill_value='missing')),\n",
    "    ('onehot', OneHotEncoder(handle_unknown='ignore'))])"
   ]
  },
  {
   "cell_type": "code",
   "execution_count": 6,
   "metadata": {},
   "outputs": [
    {
     "data": {
      "text/plain": [
       "last_5_home       object\n",
       "last_5_away       object\n",
       "last_h_goals     float64\n",
       "last_a_goals     float64\n",
       "last_wh_goals    float64\n",
       "last_wa_goals    float64\n",
       "odd_1            float64\n",
       "odd_N            float64\n",
       "odd_2            float64\n",
       "winner           float64\n",
       "dtype: object"
      ]
     },
     "execution_count": 6,
     "metadata": {},
     "output_type": "execute_result"
    }
   ],
   "source": [
    "data.dtypes"
   ]
  },
  {
   "cell_type": "code",
   "execution_count": 7,
   "metadata": {},
   "outputs": [
    {
     "data": {
      "text/plain": [
       "(Index(['last_h_goals', 'last_a_goals', 'last_wh_goals', 'last_wa_goals',\n",
       "        'odd_1', 'odd_N', 'odd_2'],\n",
       "       dtype='object'),\n",
       " Index(['last_5_home', 'last_5_away'], dtype='object'))"
      ]
     },
     "execution_count": 7,
     "metadata": {},
     "output_type": "execute_result"
    }
   ],
   "source": [
    "numeric_features = data.select_dtypes(include=['int64', 'float64']).drop(['winner'], axis=1).columns\n",
    "categorical_features = data.select_dtypes(include=['object']).columns\n",
    "\n",
    "numeric_features, categorical_features"
   ]
  },
  {
   "cell_type": "code",
   "execution_count": 8,
   "metadata": {},
   "outputs": [],
   "source": [
    "from sklearn.compose import ColumnTransformer\n",
    "preprocessor = ColumnTransformer(\n",
    "    transformers=[\n",
    "        ('num', numeric_transformer, numeric_features),\n",
    "        ('cat', categorical_transformer, categorical_features)])"
   ]
  },
  {
   "cell_type": "code",
   "execution_count": 9,
   "metadata": {},
   "outputs": [],
   "source": [
    "# inster the code for a custom transform for the dataset\n",
    "from sklearn.base import BaseEstimator\n",
    "from sklearn.base import TransformerMixin\n",
    "import random\n",
    "class ComputeTrend(BaseEstimator, TransformerMixin):\n",
    "    def __init__(self):\n",
    "        self.initialization='OK'\n",
    "\n",
    "    def compute(result5):\n",
    "        return random.randint\n",
    "\n",
    "    def fit(self, X, y=None):\n",
    "        return self\n",
    "\n",
    "    def transform(self, X, y=None):\n",
    "        X_ = X.copy()\n",
    "        for idx, r in X_.iterrows():\n",
    "            try:\n",
    "                l = r.last_5_home.split('/')\n",
    "                l = list(map(lambda x: x.replace('Wa','7'),l))\n",
    "                l = list(map(lambda x: x.replace('Da','4'),l))\n",
    "                l = list(map(lambda x: x.replace('Wh','3'),l))\n",
    "                l = list(map(lambda x: x.replace('Dh','1'),l))\n",
    "                l = list(map(lambda x: x.replace('Lh','-2'),l))\n",
    "                l = list(map(lambda x: x.replace('La','0'),l))\n",
    "                l = pd.DataFrame(l)\n",
    "                l.columns=['trend']\n",
    "                s=np.arange(1,6)\n",
    "                model=np.polyfit(s,l.trend.astype(int).cumsum(),1)\n",
    "                X_.loc[idx,'home_trend_slope']=model[0]\n",
    "                X_.loc[idx,'home_trend_intercept']=model[1]\n",
    "\n",
    "                l = r.last_5_away.split('/')\n",
    "                l = list(map(lambda x: x.replace('Wa','7'),l))\n",
    "                l = list(map(lambda x: x.replace('Da','4'),l))\n",
    "                l = list(map(lambda x: x.replace('Wh','3'),l))\n",
    "                l = list(map(lambda x: x.replace('Dh','1'),l))\n",
    "                l = list(map(lambda x: x.replace('Lh','-2'),l))\n",
    "                l = list(map(lambda x: x.replace('La','0'),l))\n",
    "                l = pd.DataFrame(l)\n",
    "                l.columns=['trend']\n",
    "                s=np.arange(1,6)\n",
    "                model=np.polyfit(s,l.trend.astype(int).cumsum(),1)\n",
    "                X_.loc[idx,'away_trend_slope']=model[0]\n",
    "                X_.loc[idx,'away_trend_intercept']=model[1]\n",
    "            except:\n",
    "                X_.loc[idx,'home_trend_slope']=0\n",
    "                X_.loc[idx,'home_trend_intercept']=0\n",
    "                X_.loc[idx,'away_trend_slope']=0\n",
    "                X_.loc[idx,'away_trend_intercept']=0\n",
    "\n",
    "\n",
    "            \n",
    "        X_ = X_.drop(['last_5_home','last_5_away'], axis=1)\n",
    "        #print(X_.iloc[0,:])\n",
    "        return X_\n",
    "\n",
    "\n",
    "\n",
    "    "
   ]
  },
  {
   "cell_type": "code",
   "execution_count": 10,
   "metadata": {},
   "outputs": [],
   "source": [
    "from sklearn.ensemble import RandomForestClassifier\n",
    "rf = Pipeline(steps=[ #('preprocessor', preprocessor),\n",
    "                    ('preprocessor', ComputeTrend()),\n",
    "                    ('scaler', StandardScaler()),\n",
    "                      ('classifier', RandomForestClassifier())])"
   ]
  },
  {
   "cell_type": "code",
   "execution_count": 11,
   "metadata": {},
   "outputs": [
    {
     "data": {
      "text/plain": [
       "Pipeline(steps=[('preprocessor', ComputeTrend()), ('scaler', StandardScaler()),\n",
       "                ('classifier', RandomForestClassifier())])"
      ]
     },
     "execution_count": 11,
     "metadata": {},
     "output_type": "execute_result"
    }
   ],
   "source": [
    "rf.fit(X_train, y_train)\n"
   ]
  },
  {
   "cell_type": "code",
   "execution_count": 12,
   "metadata": {},
   "outputs": [
    {
     "data": {
      "text/html": [
       "<div>\n",
       "<style scoped>\n",
       "    .dataframe tbody tr th:only-of-type {\n",
       "        vertical-align: middle;\n",
       "    }\n",
       "\n",
       "    .dataframe tbody tr th {\n",
       "        vertical-align: top;\n",
       "    }\n",
       "\n",
       "    .dataframe thead th {\n",
       "        text-align: right;\n",
       "    }\n",
       "</style>\n",
       "<table border=\"1\" class=\"dataframe\">\n",
       "  <thead>\n",
       "    <tr style=\"text-align: right;\">\n",
       "      <th></th>\n",
       "      <th>last_5_home</th>\n",
       "      <th>last_5_away</th>\n",
       "      <th>last_h_goals</th>\n",
       "      <th>last_a_goals</th>\n",
       "      <th>last_wh_goals</th>\n",
       "      <th>last_wa_goals</th>\n",
       "      <th>odd_1</th>\n",
       "      <th>odd_N</th>\n",
       "      <th>odd_2</th>\n",
       "    </tr>\n",
       "  </thead>\n",
       "  <tbody>\n",
       "    <tr>\n",
       "      <th>704</th>\n",
       "      <td>Lh/Da/Wa/Dh/Da</td>\n",
       "      <td>Dh/La/La/Wh/Dh</td>\n",
       "      <td>8.0</td>\n",
       "      <td>7.0</td>\n",
       "      <td>9.0</td>\n",
       "      <td>8.0</td>\n",
       "      <td>1.48</td>\n",
       "      <td>3.96</td>\n",
       "      <td>5.90</td>\n",
       "    </tr>\n",
       "    <tr>\n",
       "      <th>4722</th>\n",
       "      <td>Da/Wh/Da/Dh/La</td>\n",
       "      <td>Lh/Wa/Wh/Wa/Wh</td>\n",
       "      <td>7.0</td>\n",
       "      <td>14.0</td>\n",
       "      <td>6.0</td>\n",
       "      <td>8.0</td>\n",
       "      <td>4.39</td>\n",
       "      <td>3.89</td>\n",
       "      <td>1.75</td>\n",
       "    </tr>\n",
       "    <tr>\n",
       "      <th>7874</th>\n",
       "      <td>Lh/La/Wa/La/Lh</td>\n",
       "      <td>Wh/Wa/La/Wh/Wa</td>\n",
       "      <td>13.0</td>\n",
       "      <td>12.0</td>\n",
       "      <td>4.0</td>\n",
       "      <td>4.0</td>\n",
       "      <td>2.95</td>\n",
       "      <td>3.31</td>\n",
       "      <td>2.50</td>\n",
       "    </tr>\n",
       "    <tr>\n",
       "      <th>74</th>\n",
       "      <td>Wh/Wa/Wa/Wh/Wh</td>\n",
       "      <td>Wa/La/Wh/Wh/La</td>\n",
       "      <td>0.0</td>\n",
       "      <td>7.0</td>\n",
       "      <td>6.0</td>\n",
       "      <td>4.0</td>\n",
       "      <td>2.35</td>\n",
       "      <td>3.10</td>\n",
       "      <td>3.60</td>\n",
       "    </tr>\n",
       "    <tr>\n",
       "      <th>3710</th>\n",
       "      <td>Wa/Wh/Da/Lh/La</td>\n",
       "      <td>La/Dh/Wh/La/Dh</td>\n",
       "      <td>7.0</td>\n",
       "      <td>8.0</td>\n",
       "      <td>7.0</td>\n",
       "      <td>8.0</td>\n",
       "      <td>2.10</td>\n",
       "      <td>3.20</td>\n",
       "      <td>3.69</td>\n",
       "    </tr>\n",
       "    <tr>\n",
       "      <th>...</th>\n",
       "      <td>...</td>\n",
       "      <td>...</td>\n",
       "      <td>...</td>\n",
       "      <td>...</td>\n",
       "      <td>...</td>\n",
       "      <td>...</td>\n",
       "      <td>...</td>\n",
       "      <td>...</td>\n",
       "      <td>...</td>\n",
       "    </tr>\n",
       "    <tr>\n",
       "      <th>2342</th>\n",
       "      <td>Da/Da/Dh/Wh/La</td>\n",
       "      <td>Lh/La/La/Dh/Da</td>\n",
       "      <td>9.0</td>\n",
       "      <td>2.0</td>\n",
       "      <td>6.0</td>\n",
       "      <td>6.0</td>\n",
       "      <td>1.81</td>\n",
       "      <td>3.31</td>\n",
       "      <td>4.44</td>\n",
       "    </tr>\n",
       "    <tr>\n",
       "      <th>2275</th>\n",
       "      <td>Wh/La/Dh/Wa/Wh</td>\n",
       "      <td>Wa/Wh/Wa/Wh/La</td>\n",
       "      <td>3.0</td>\n",
       "      <td>13.0</td>\n",
       "      <td>9.0</td>\n",
       "      <td>3.0</td>\n",
       "      <td>2.61</td>\n",
       "      <td>3.04</td>\n",
       "      <td>2.70</td>\n",
       "    </tr>\n",
       "    <tr>\n",
       "      <th>1392</th>\n",
       "      <td>Da/Da/Wh/Da/Wh</td>\n",
       "      <td>Lh/Da/Lh/Da/Wh</td>\n",
       "      <td>3.0</td>\n",
       "      <td>12.0</td>\n",
       "      <td>8.0</td>\n",
       "      <td>11.0</td>\n",
       "      <td>2.16</td>\n",
       "      <td>3.05</td>\n",
       "      <td>3.09</td>\n",
       "    </tr>\n",
       "    <tr>\n",
       "      <th>7655</th>\n",
       "      <td>La/Wh/La/La/Wh</td>\n",
       "      <td>Wh/Wa/Dh/Wa/La</td>\n",
       "      <td>7.0</td>\n",
       "      <td>8.0</td>\n",
       "      <td>8.0</td>\n",
       "      <td>2.0</td>\n",
       "      <td>1.80</td>\n",
       "      <td>3.99</td>\n",
       "      <td>4.23</td>\n",
       "    </tr>\n",
       "    <tr>\n",
       "      <th>2612</th>\n",
       "      <td>Da/Wa/Wh/Wa/Dh</td>\n",
       "      <td>Dh/Da/Dh/Da/Wh</td>\n",
       "      <td>5.0</td>\n",
       "      <td>6.0</td>\n",
       "      <td>15.0</td>\n",
       "      <td>4.0</td>\n",
       "      <td>2.20</td>\n",
       "      <td>3.17</td>\n",
       "      <td>3.36</td>\n",
       "    </tr>\n",
       "  </tbody>\n",
       "</table>\n",
       "<p>6543 rows × 9 columns</p>\n",
       "</div>"
      ],
      "text/plain": [
       "         last_5_home     last_5_away  last_h_goals  last_a_goals  \\\n",
       "704   Lh/Da/Wa/Dh/Da  Dh/La/La/Wh/Dh           8.0           7.0   \n",
       "4722  Da/Wh/Da/Dh/La  Lh/Wa/Wh/Wa/Wh           7.0          14.0   \n",
       "7874  Lh/La/Wa/La/Lh  Wh/Wa/La/Wh/Wa          13.0          12.0   \n",
       "74    Wh/Wa/Wa/Wh/Wh  Wa/La/Wh/Wh/La           0.0           7.0   \n",
       "3710  Wa/Wh/Da/Lh/La  La/Dh/Wh/La/Dh           7.0           8.0   \n",
       "...              ...             ...           ...           ...   \n",
       "2342  Da/Da/Dh/Wh/La  Lh/La/La/Dh/Da           9.0           2.0   \n",
       "2275  Wh/La/Dh/Wa/Wh  Wa/Wh/Wa/Wh/La           3.0          13.0   \n",
       "1392  Da/Da/Wh/Da/Wh  Lh/Da/Lh/Da/Wh           3.0          12.0   \n",
       "7655  La/Wh/La/La/Wh  Wh/Wa/Dh/Wa/La           7.0           8.0   \n",
       "2612  Da/Wa/Wh/Wa/Dh  Dh/Da/Dh/Da/Wh           5.0           6.0   \n",
       "\n",
       "      last_wh_goals  last_wa_goals  odd_1  odd_N  odd_2  \n",
       "704             9.0            8.0   1.48   3.96   5.90  \n",
       "4722            6.0            8.0   4.39   3.89   1.75  \n",
       "7874            4.0            4.0   2.95   3.31   2.50  \n",
       "74              6.0            4.0   2.35   3.10   3.60  \n",
       "3710            7.0            8.0   2.10   3.20   3.69  \n",
       "...             ...            ...    ...    ...    ...  \n",
       "2342            6.0            6.0   1.81   3.31   4.44  \n",
       "2275            9.0            3.0   2.61   3.04   2.70  \n",
       "1392            8.0           11.0   2.16   3.05   3.09  \n",
       "7655            8.0            2.0   1.80   3.99   4.23  \n",
       "2612           15.0            4.0   2.20   3.17   3.36  \n",
       "\n",
       "[6543 rows x 9 columns]"
      ]
     },
     "execution_count": 12,
     "metadata": {},
     "output_type": "execute_result"
    }
   ],
   "source": [
    "X_train"
   ]
  },
  {
   "cell_type": "code",
   "execution_count": 13,
   "metadata": {},
   "outputs": [],
   "source": [
    "y_pred = rf.predict(X_test)"
   ]
  },
  {
   "cell_type": "code",
   "execution_count": 14,
   "metadata": {},
   "outputs": [
    {
     "name": "stdout",
     "output_type": "stream",
     "text": [
      "KNeighborsClassifier(n_neighbors=3)\n",
      "model score: 0.465\n",
      "SVC(C=0.025, probability=True)\n",
      "model score: 0.519\n",
      "NuSVC(probability=True)\n",
      "model score: 0.463\n",
      "DecisionTreeClassifier()\n",
      "model score: 0.433\n",
      "RandomForestClassifier()\n",
      "model score: 0.516\n",
      "AdaBoostClassifier()\n",
      "model score: 0.526\n",
      "GradientBoostingClassifier()\n",
      "model score: 0.534\n"
     ]
    }
   ],
   "source": [
    "from sklearn.metrics import accuracy_score, log_loss\n",
    "from sklearn.neighbors import KNeighborsClassifier\n",
    "from sklearn.svm import SVC, LinearSVC, NuSVC\n",
    "from sklearn.tree import DecisionTreeClassifier\n",
    "from sklearn.ensemble import RandomForestClassifier, AdaBoostClassifier, GradientBoostingClassifier\n",
    "from sklearn.discriminant_analysis import LinearDiscriminantAnalysis\n",
    "from sklearn.discriminant_analysis import QuadraticDiscriminantAnalysis\n",
    "classifiers = [\n",
    "    KNeighborsClassifier(3),\n",
    "    SVC(kernel=\"rbf\", C=0.025, probability=True),\n",
    "    NuSVC(probability=True),\n",
    "    DecisionTreeClassifier(),\n",
    "    RandomForestClassifier(),\n",
    "    AdaBoostClassifier(),\n",
    "    GradientBoostingClassifier()\n",
    "    ]\n",
    "for classifier in classifiers:\n",
    "    pipe = Pipeline(steps=[('preprocessor', ComputeTrend()),\n",
    "                    ('scaler', StandardScaler()),\n",
    "                      ('classifier', classifier)])\n",
    "    pipe.fit(X_train, y_train)   \n",
    "    print(classifier)\n",
    "    print(\"model score: %.3f\" % pipe.score(X_test, y_test))"
   ]
  },
  {
   "cell_type": "code",
   "execution_count": 15,
   "metadata": {},
   "outputs": [
    {
     "name": "stdout",
     "output_type": "stream",
     "text": [
      "{'classifier__max_depth': 26, 'classifier__n_estimators': 100}\n",
      "0.5207064477167014\n"
     ]
    }
   ],
   "source": [
    "param_grid = { \n",
    "    'classifier__n_estimators': [100],\n",
    "    'classifier__max_depth' : [26,28,22]}\n",
    "\n",
    "clf = RandomForestClassifier()\n",
    "pipe = Pipeline(steps=[('preprocessor', ComputeTrend()),\n",
    "                    ('scaler', StandardScaler()),\n",
    "                    ('classifier', clf)])\n",
    "from sklearn.model_selection import GridSearchCV\n",
    "CV = GridSearchCV(pipe, param_grid, n_jobs= 1)\n",
    "                  \n",
    "CV.fit(X_train, y_train)  \n",
    "print(CV.best_params_)    \n",
    "print(CV.best_score_)"
   ]
  },
  {
   "cell_type": "code",
   "execution_count": 17,
   "metadata": {},
   "outputs": [
    {
     "data": {
      "text/plain": [
       "array([1.])"
      ]
     },
     "execution_count": 17,
     "metadata": {},
     "output_type": "execute_result"
    }
   ],
   "source": [
    "row = data.sample(1).drop('winner',axis=1)\n",
    "\n",
    "CV.predict(row)"
   ]
  },
  {
   "cell_type": "code",
   "execution_count": 18,
   "metadata": {},
   "outputs": [
    {
     "data": {
      "text/plain": [
       "array([['La/Lh/Wa/Lh/Dh', 'Lh/La/Lh/La/Dh', 8.0, 3.0, 4.0, 14.0, 2.24,\n",
       "        3.32, 3.46]], dtype=object)"
      ]
     },
     "execution_count": 18,
     "metadata": {},
     "output_type": "execute_result"
    }
   ],
   "source": [
    "row.values"
   ]
  },
  {
   "cell_type": "code",
   "execution_count": 19,
   "metadata": {},
   "outputs": [
    {
     "data": {
      "text/html": [
       "<div>\n",
       "<style scoped>\n",
       "    .dataframe tbody tr th:only-of-type {\n",
       "        vertical-align: middle;\n",
       "    }\n",
       "\n",
       "    .dataframe tbody tr th {\n",
       "        vertical-align: top;\n",
       "    }\n",
       "\n",
       "    .dataframe thead th {\n",
       "        text-align: right;\n",
       "    }\n",
       "</style>\n",
       "<table border=\"1\" class=\"dataframe\">\n",
       "  <thead>\n",
       "    <tr style=\"text-align: right;\">\n",
       "      <th></th>\n",
       "      <th>last_5_home</th>\n",
       "      <th>last_5_away</th>\n",
       "      <th>last_h_goals</th>\n",
       "      <th>last_a_goals</th>\n",
       "      <th>last_wh_goals</th>\n",
       "      <th>last_wa_goals</th>\n",
       "      <th>odd_1</th>\n",
       "      <th>odd_N</th>\n",
       "      <th>odd_2</th>\n",
       "    </tr>\n",
       "  </thead>\n",
       "  <tbody>\n",
       "    <tr>\n",
       "      <th>5799</th>\n",
       "      <td>La/Lh/Wa/Lh/Dh</td>\n",
       "      <td>Lh/La/Lh/La/Dh</td>\n",
       "      <td>8.0</td>\n",
       "      <td>3.0</td>\n",
       "      <td>4.0</td>\n",
       "      <td>14.0</td>\n",
       "      <td>2.24</td>\n",
       "      <td>3.32</td>\n",
       "      <td>3.46</td>\n",
       "    </tr>\n",
       "  </tbody>\n",
       "</table>\n",
       "</div>"
      ],
      "text/plain": [
       "         last_5_home     last_5_away  last_h_goals  last_a_goals  \\\n",
       "5799  La/Lh/Wa/Lh/Dh  Lh/La/Lh/La/Dh           8.0           3.0   \n",
       "\n",
       "      last_wh_goals  last_wa_goals  odd_1  odd_N  odd_2  \n",
       "5799            4.0           14.0   2.24   3.32   3.46  "
      ]
     },
     "execution_count": 19,
     "metadata": {},
     "output_type": "execute_result"
    }
   ],
   "source": [
    "row"
   ]
  },
  {
   "cell_type": "code",
   "execution_count": 20,
   "metadata": {},
   "outputs": [
    {
     "data": {
      "text/html": [
       "<div>\n",
       "<style scoped>\n",
       "    .dataframe tbody tr th:only-of-type {\n",
       "        vertical-align: middle;\n",
       "    }\n",
       "\n",
       "    .dataframe tbody tr th {\n",
       "        vertical-align: top;\n",
       "    }\n",
       "\n",
       "    .dataframe thead th {\n",
       "        text-align: right;\n",
       "    }\n",
       "</style>\n",
       "<table border=\"1\" class=\"dataframe\">\n",
       "  <thead>\n",
       "    <tr style=\"text-align: right;\">\n",
       "      <th></th>\n",
       "      <th>last_5_home</th>\n",
       "      <th>last_5_away</th>\n",
       "      <th>last_h_goals</th>\n",
       "      <th>last_a_goals</th>\n",
       "      <th>last_wh_goals</th>\n",
       "      <th>last_wa_goals</th>\n",
       "      <th>odd_1</th>\n",
       "      <th>odd_N</th>\n",
       "      <th>odd_2</th>\n",
       "    </tr>\n",
       "  </thead>\n",
       "  <tbody>\n",
       "    <tr>\n",
       "      <th>5759</th>\n",
       "      <td>La/Dh/La/Lh/Wa</td>\n",
       "      <td>Lh/Da/Dh/Wh/Da</td>\n",
       "      <td>6.0</td>\n",
       "      <td>7.0</td>\n",
       "      <td>3.0</td>\n",
       "      <td>5.0</td>\n",
       "      <td>2.72</td>\n",
       "      <td>3.27</td>\n",
       "      <td>2.72</td>\n",
       "    </tr>\n",
       "    <tr>\n",
       "      <th>6528</th>\n",
       "      <td>Wh/Da/Wa/Wh/Wa</td>\n",
       "      <td>Da/Lh/La/Lh/La</td>\n",
       "      <td>1.0</td>\n",
       "      <td>3.0</td>\n",
       "      <td>8.0</td>\n",
       "      <td>11.0</td>\n",
       "      <td>1.24</td>\n",
       "      <td>6.33</td>\n",
       "      <td>14.27</td>\n",
       "    </tr>\n",
       "    <tr>\n",
       "      <th>8140</th>\n",
       "      <td>Wa/Wh/Wh/La/Wh</td>\n",
       "      <td>Dh/Da/Dh/La/La</td>\n",
       "      <td>1.0</td>\n",
       "      <td>4.0</td>\n",
       "      <td>16.0</td>\n",
       "      <td>9.0</td>\n",
       "      <td>1.17</td>\n",
       "      <td>8.08</td>\n",
       "      <td>16.20</td>\n",
       "    </tr>\n",
       "    <tr>\n",
       "      <th>3599</th>\n",
       "      <td>Wa/Dh/Wa/Lh/La</td>\n",
       "      <td>Wh/La/Lh/Wh/Wa</td>\n",
       "      <td>8.0</td>\n",
       "      <td>10.0</td>\n",
       "      <td>8.0</td>\n",
       "      <td>8.0</td>\n",
       "      <td>3.61</td>\n",
       "      <td>3.42</td>\n",
       "      <td>2.01</td>\n",
       "    </tr>\n",
       "    <tr>\n",
       "      <th>5942</th>\n",
       "      <td>Wa/Lh/Wa/Wa/Dh</td>\n",
       "      <td>Dh/La/Lh/Wa/Wh</td>\n",
       "      <td>5.0</td>\n",
       "      <td>6.0</td>\n",
       "      <td>7.0</td>\n",
       "      <td>8.0</td>\n",
       "      <td>1.59</td>\n",
       "      <td>4.17</td>\n",
       "      <td>6.12</td>\n",
       "    </tr>\n",
       "    <tr>\n",
       "      <th>...</th>\n",
       "      <td>...</td>\n",
       "      <td>...</td>\n",
       "      <td>...</td>\n",
       "      <td>...</td>\n",
       "      <td>...</td>\n",
       "      <td>...</td>\n",
       "      <td>...</td>\n",
       "      <td>...</td>\n",
       "      <td>...</td>\n",
       "    </tr>\n",
       "    <tr>\n",
       "      <th>2627</th>\n",
       "      <td>Dh/Da/Wh/La/Wh</td>\n",
       "      <td>Lh/La/Lh/Wa/Dh</td>\n",
       "      <td>2.0</td>\n",
       "      <td>4.0</td>\n",
       "      <td>3.0</td>\n",
       "      <td>8.0</td>\n",
       "      <td>2.24</td>\n",
       "      <td>3.21</td>\n",
       "      <td>3.23</td>\n",
       "    </tr>\n",
       "    <tr>\n",
       "      <th>3018</th>\n",
       "      <td>Da/Wh/Da/Wh/La</td>\n",
       "      <td>Wh/Da/Dh/La/Wh</td>\n",
       "      <td>1.0</td>\n",
       "      <td>7.0</td>\n",
       "      <td>5.0</td>\n",
       "      <td>6.0</td>\n",
       "      <td>1.50</td>\n",
       "      <td>3.80</td>\n",
       "      <td>7.42</td>\n",
       "    </tr>\n",
       "    <tr>\n",
       "      <th>1193</th>\n",
       "      <td>La/Lh/Da/Dh/Wh</td>\n",
       "      <td>Lh/Da/Wh/La/Wh</td>\n",
       "      <td>8.0</td>\n",
       "      <td>6.0</td>\n",
       "      <td>4.0</td>\n",
       "      <td>7.0</td>\n",
       "      <td>2.46</td>\n",
       "      <td>3.08</td>\n",
       "      <td>2.63</td>\n",
       "    </tr>\n",
       "    <tr>\n",
       "      <th>5987</th>\n",
       "      <td>La/La/Lh/Da/Wh</td>\n",
       "      <td>Dh/Wh/Da/Wh/Wh</td>\n",
       "      <td>5.0</td>\n",
       "      <td>11.0</td>\n",
       "      <td>3.0</td>\n",
       "      <td>6.0</td>\n",
       "      <td>3.46</td>\n",
       "      <td>3.29</td>\n",
       "      <td>2.26</td>\n",
       "    </tr>\n",
       "    <tr>\n",
       "      <th>1589</th>\n",
       "      <td>Wa/Lh/Wh/Wa/Wh</td>\n",
       "      <td>Dh/Wa/Wa/Wh/Wh</td>\n",
       "      <td>3.0</td>\n",
       "      <td>10.0</td>\n",
       "      <td>11.0</td>\n",
       "      <td>2.0</td>\n",
       "      <td>2.59</td>\n",
       "      <td>3.05</td>\n",
       "      <td>2.65</td>\n",
       "    </tr>\n",
       "  </tbody>\n",
       "</table>\n",
       "<p>1636 rows × 9 columns</p>\n",
       "</div>"
      ],
      "text/plain": [
       "         last_5_home     last_5_away  last_h_goals  last_a_goals  \\\n",
       "5759  La/Dh/La/Lh/Wa  Lh/Da/Dh/Wh/Da           6.0           7.0   \n",
       "6528  Wh/Da/Wa/Wh/Wa  Da/Lh/La/Lh/La           1.0           3.0   \n",
       "8140  Wa/Wh/Wh/La/Wh  Dh/Da/Dh/La/La           1.0           4.0   \n",
       "3599  Wa/Dh/Wa/Lh/La  Wh/La/Lh/Wh/Wa           8.0          10.0   \n",
       "5942  Wa/Lh/Wa/Wa/Dh  Dh/La/Lh/Wa/Wh           5.0           6.0   \n",
       "...              ...             ...           ...           ...   \n",
       "2627  Dh/Da/Wh/La/Wh  Lh/La/Lh/Wa/Dh           2.0           4.0   \n",
       "3018  Da/Wh/Da/Wh/La  Wh/Da/Dh/La/Wh           1.0           7.0   \n",
       "1193  La/Lh/Da/Dh/Wh  Lh/Da/Wh/La/Wh           8.0           6.0   \n",
       "5987  La/La/Lh/Da/Wh  Dh/Wh/Da/Wh/Wh           5.0          11.0   \n",
       "1589  Wa/Lh/Wh/Wa/Wh  Dh/Wa/Wa/Wh/Wh           3.0          10.0   \n",
       "\n",
       "      last_wh_goals  last_wa_goals  odd_1  odd_N  odd_2  \n",
       "5759            3.0            5.0   2.72   3.27   2.72  \n",
       "6528            8.0           11.0   1.24   6.33  14.27  \n",
       "8140           16.0            9.0   1.17   8.08  16.20  \n",
       "3599            8.0            8.0   3.61   3.42   2.01  \n",
       "5942            7.0            8.0   1.59   4.17   6.12  \n",
       "...             ...            ...    ...    ...    ...  \n",
       "2627            3.0            8.0   2.24   3.21   3.23  \n",
       "3018            5.0            6.0   1.50   3.80   7.42  \n",
       "1193            4.0            7.0   2.46   3.08   2.63  \n",
       "5987            3.0            6.0   3.46   3.29   2.26  \n",
       "1589           11.0            2.0   2.59   3.05   2.65  \n",
       "\n",
       "[1636 rows x 9 columns]"
      ]
     },
     "execution_count": 20,
     "metadata": {},
     "output_type": "execute_result"
    }
   ],
   "source": [
    "X_test"
   ]
  },
  {
   "cell_type": "code",
   "execution_count": 21,
   "metadata": {},
   "outputs": [
    {
     "data": {
      "text/html": [
       "<div>\n",
       "<style scoped>\n",
       "    .dataframe tbody tr th:only-of-type {\n",
       "        vertical-align: middle;\n",
       "    }\n",
       "\n",
       "    .dataframe tbody tr th {\n",
       "        vertical-align: top;\n",
       "    }\n",
       "\n",
       "    .dataframe thead th {\n",
       "        text-align: right;\n",
       "    }\n",
       "</style>\n",
       "<table border=\"1\" class=\"dataframe\">\n",
       "  <thead>\n",
       "    <tr style=\"text-align: right;\">\n",
       "      <th></th>\n",
       "      <th>last_5_home</th>\n",
       "      <th>last_5_away</th>\n",
       "      <th>last_h_goals</th>\n",
       "      <th>last_a_goals</th>\n",
       "      <th>last_wh_goals</th>\n",
       "      <th>last_wa_goals</th>\n",
       "      <th>odd_1</th>\n",
       "      <th>odd_N</th>\n",
       "      <th>odd_2</th>\n",
       "    </tr>\n",
       "  </thead>\n",
       "  <tbody>\n",
       "    <tr>\n",
       "      <th>0</th>\n",
       "      <td>La/Dh/Da/Wh/La</td>\n",
       "      <td>Lh/La/Lh/Wa/Dh</td>\n",
       "      <td>4</td>\n",
       "      <td>2</td>\n",
       "      <td>15</td>\n",
       "      <td>4</td>\n",
       "      <td>2.87</td>\n",
       "      <td>3.41</td>\n",
       "      <td>2.92</td>\n",
       "    </tr>\n",
       "  </tbody>\n",
       "</table>\n",
       "</div>"
      ],
      "text/plain": [
       "      last_5_home     last_5_away  last_h_goals  last_a_goals  last_wh_goals  \\\n",
       "0  La/Dh/Da/Wh/La  Lh/La/Lh/Wa/Dh             4             2             15   \n",
       "\n",
       "   last_wa_goals  odd_1  odd_N  odd_2  \n",
       "0              4   2.87   3.41   2.92  "
      ]
     },
     "execution_count": 21,
     "metadata": {},
     "output_type": "execute_result"
    }
   ],
   "source": [
    "r=pd.DataFrame([['La/Dh/Da/Wh/La', 'Lh/La/Lh/Wa/Dh', 4, 2, 15, 4, 2.87, 3.41, 2.92]])\n",
    "r.columns=['last_5_home','last_5_away','last_h_goals','last_a_goals',\n",
    "            'last_wh_goals','last_wa_goals','odd_1','odd_N','odd_2']\n",
    "r"
   ]
  },
  {
   "cell_type": "code",
   "execution_count": 22,
   "metadata": {},
   "outputs": [
    {
     "data": {
      "text/plain": [
       "(array([[0.32, 0.3 , 0.38]]), array([2.]))"
      ]
     },
     "execution_count": 22,
     "metadata": {},
     "output_type": "execute_result"
    }
   ],
   "source": [
    "CV.predict_proba(r), CV.predict(r)"
   ]
  },
  {
   "cell_type": "code",
   "execution_count": 23,
   "metadata": {},
   "outputs": [],
   "source": [
    "import pickle\n",
    "filename = 'finalized_model.sav'\n",
    "pickle.dump(CV, open(filename, 'wb'))\n",
    " \n",
    "# some time later...\n",
    " \n",
    "# load the model from disk\n",
    "loaded_model = pickle.load(open(filename, 'rb'))\n",
    "result = loaded_model.score(X_test, y_test)"
   ]
  },
  {
   "cell_type": "code",
   "execution_count": 24,
   "metadata": {},
   "outputs": [
    {
     "data": {
      "text/plain": [
       "0.5128361858190709"
      ]
     },
     "execution_count": 24,
     "metadata": {},
     "output_type": "execute_result"
    }
   ],
   "source": [
    "result"
   ]
  },
  {
   "cell_type": "code",
   "execution_count": 25,
   "metadata": {},
   "outputs": [
    {
     "data": {
      "text/plain": [
       "array([[0.32, 0.3 , 0.38]])"
      ]
     },
     "execution_count": 25,
     "metadata": {},
     "output_type": "execute_result"
    }
   ],
   "source": [
    "loaded_model.predict_proba(r)"
   ]
  },
  {
   "cell_type": "code",
   "execution_count": 26,
   "metadata": {},
   "outputs": [
    {
     "name": "stdout",
     "output_type": "stream",
     "text": [
      "[3.4 3.8]\n"
     ]
    }
   ],
   "source": [
    "l = (['Wa','Da','Wh','Wh','Da'])\n",
    "l = list(map(lambda x: x.replace('Wa','7'),l))\n",
    "l = list(map(lambda x: x.replace('Da','4'),l))\n",
    "l = list(map(lambda x: x.replace('Wh','3'),l))\n",
    "l = list(map(lambda x: x.replace('Dh','1'),l))\n",
    "l = list(map(lambda x: x.replace('Lh','-2'),l))\n",
    "l = list(map(lambda x: x.replace('La','0'),l))\n",
    "l = pd.DataFrame(l)\n",
    "l.columns=['trend']\n",
    "s=np.arange(1,6)\n",
    "model=np.polyfit(s,l.trend.astype(int).cumsum(),1)\n",
    "print(model)\n"
   ]
  },
  {
   "cell_type": "code",
   "execution_count": null,
   "metadata": {},
   "outputs": [],
   "source": []
  }
 ],
 "metadata": {
  "kernelspec": {
   "display_name": "Python 3.8.8",
   "language": "python",
   "name": "python3"
  },
  "language_info": {
   "codemirror_mode": {
    "name": "ipython",
    "version": 3
   },
   "file_extension": ".py",
   "mimetype": "text/x-python",
   "name": "python",
   "nbconvert_exporter": "python",
   "pygments_lexer": "ipython3",
   "version": "3.8.8"
  },
  "orig_nbformat": 4,
  "vscode": {
   "interpreter": {
    "hash": "ab3f366bedf54b39e44c27c44adba3b5490d6e2929230bdba083ec5c84146c8a"
   }
  }
 },
 "nbformat": 4,
 "nbformat_minor": 2
}
