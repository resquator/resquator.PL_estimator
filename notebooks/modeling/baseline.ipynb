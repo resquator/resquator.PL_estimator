{
 "cells": [
  {
   "cell_type": "code",
   "execution_count": 1,
   "metadata": {},
   "outputs": [],
   "source": [
    "import pandas as pd\n",
    "import numpy as np\n",
    "import matplotlib as plt\n",
    "\n",
    "%matplotlib inline"
   ]
  },
  {
   "cell_type": "code",
   "execution_count": 2,
   "metadata": {},
   "outputs": [
    {
     "data": {
      "text/plain": [
       "(8179, 10)"
      ]
     },
     "execution_count": 2,
     "metadata": {},
     "output_type": "execute_result"
    }
   ],
   "source": [
    "\n",
    "TABLE_FOLDER = '../../src/data'\n",
    "RAW_FILE = 'modeling_v1_data.csv'\n",
    "\n",
    "data = pd.read_csv(f'{TABLE_FOLDER}/{RAW_FILE}')\n",
    "data.drop('Unnamed: 0', axis=1, inplace=True)\n",
    "data.shape"
   ]
  },
  {
   "cell_type": "code",
   "execution_count": 3,
   "metadata": {},
   "outputs": [
    {
     "data": {
      "text/html": [
       "<div>\n",
       "<style scoped>\n",
       "    .dataframe tbody tr th:only-of-type {\n",
       "        vertical-align: middle;\n",
       "    }\n",
       "\n",
       "    .dataframe tbody tr th {\n",
       "        vertical-align: top;\n",
       "    }\n",
       "\n",
       "    .dataframe thead th {\n",
       "        text-align: right;\n",
       "    }\n",
       "</style>\n",
       "<table border=\"1\" class=\"dataframe\">\n",
       "  <thead>\n",
       "    <tr style=\"text-align: right;\">\n",
       "      <th></th>\n",
       "      <th>last_5_home</th>\n",
       "      <th>last_5_away</th>\n",
       "      <th>last_h_goals</th>\n",
       "      <th>last_a_goals</th>\n",
       "      <th>last_wh_goals</th>\n",
       "      <th>last_wa_goals</th>\n",
       "      <th>odd_1</th>\n",
       "      <th>odd_N</th>\n",
       "      <th>odd_2</th>\n",
       "      <th>winner</th>\n",
       "    </tr>\n",
       "  </thead>\n",
       "  <tbody>\n",
       "    <tr>\n",
       "      <th>0</th>\n",
       "      <td>La/Wh/Wa/Dh/La</td>\n",
       "      <td>Dh/Wh/Wa/Wa/Wh</td>\n",
       "      <td>9.0</td>\n",
       "      <td>12.0</td>\n",
       "      <td>8.0</td>\n",
       "      <td>3.0</td>\n",
       "      <td>3.60</td>\n",
       "      <td>3.6</td>\n",
       "      <td>1.70</td>\n",
       "      <td>2.0</td>\n",
       "    </tr>\n",
       "    <tr>\n",
       "      <th>1</th>\n",
       "      <td>La/Lh/La/Wh/La</td>\n",
       "      <td>La/Dh/Lh/La/Wh</td>\n",
       "      <td>11.0</td>\n",
       "      <td>5.0</td>\n",
       "      <td>5.0</td>\n",
       "      <td>11.0</td>\n",
       "      <td>1.79</td>\n",
       "      <td>3.3</td>\n",
       "      <td>3.80</td>\n",
       "      <td>1.0</td>\n",
       "    </tr>\n",
       "    <tr>\n",
       "      <th>2</th>\n",
       "      <td>Wa/Lh/La/Wh/La</td>\n",
       "      <td>Wh/La/Wh/Wa/Wh</td>\n",
       "      <td>7.0</td>\n",
       "      <td>8.0</td>\n",
       "      <td>5.0</td>\n",
       "      <td>4.0</td>\n",
       "      <td>3.50</td>\n",
       "      <td>3.3</td>\n",
       "      <td>1.96</td>\n",
       "      <td>1.0</td>\n",
       "    </tr>\n",
       "    <tr>\n",
       "      <th>3</th>\n",
       "      <td>La/Wh/La/Lh/La</td>\n",
       "      <td>Wh/Wa/Dh/La/Lh</td>\n",
       "      <td>12.0</td>\n",
       "      <td>7.0</td>\n",
       "      <td>7.0</td>\n",
       "      <td>7.0</td>\n",
       "      <td>2.50</td>\n",
       "      <td>3.1</td>\n",
       "      <td>2.50</td>\n",
       "      <td>1.0</td>\n",
       "    </tr>\n",
       "    <tr>\n",
       "      <th>4</th>\n",
       "      <td>Wh/La/Wh/Wa/Wa</td>\n",
       "      <td>Wh/La/Lh/La/Lh</td>\n",
       "      <td>4.0</td>\n",
       "      <td>5.0</td>\n",
       "      <td>13.0</td>\n",
       "      <td>10.0</td>\n",
       "      <td>1.27</td>\n",
       "      <td>4.5</td>\n",
       "      <td>9.99</td>\n",
       "      <td>0.0</td>\n",
       "    </tr>\n",
       "  </tbody>\n",
       "</table>\n",
       "</div>"
      ],
      "text/plain": [
       "      last_5_home     last_5_away  last_h_goals  last_a_goals  last_wh_goals  \\\n",
       "0  La/Wh/Wa/Dh/La  Dh/Wh/Wa/Wa/Wh           9.0          12.0            8.0   \n",
       "1  La/Lh/La/Wh/La  La/Dh/Lh/La/Wh          11.0           5.0            5.0   \n",
       "2  Wa/Lh/La/Wh/La  Wh/La/Wh/Wa/Wh           7.0           8.0            5.0   \n",
       "3  La/Wh/La/Lh/La  Wh/Wa/Dh/La/Lh          12.0           7.0            7.0   \n",
       "4  Wh/La/Wh/Wa/Wa  Wh/La/Lh/La/Lh           4.0           5.0           13.0   \n",
       "\n",
       "   last_wa_goals  odd_1  odd_N  odd_2  winner  \n",
       "0            3.0   3.60    3.6   1.70     2.0  \n",
       "1           11.0   1.79    3.3   3.80     1.0  \n",
       "2            4.0   3.50    3.3   1.96     1.0  \n",
       "3            7.0   2.50    3.1   2.50     1.0  \n",
       "4           10.0   1.27    4.5   9.99     0.0  "
      ]
     },
     "execution_count": 3,
     "metadata": {},
     "output_type": "execute_result"
    }
   ],
   "source": [
    "data.head()"
   ]
  },
  {
   "cell_type": "code",
   "execution_count": 4,
   "metadata": {},
   "outputs": [],
   "source": [
    "X = data.drop('winner', axis=1)\n",
    "y = data.winner\n",
    "from sklearn.model_selection import train_test_split\n",
    "\n",
    "X_train, X_test, y_train, y_test = train_test_split(X, y, test_size=0.2)"
   ]
  },
  {
   "cell_type": "code",
   "execution_count": 5,
   "metadata": {},
   "outputs": [],
   "source": [
    "from sklearn.pipeline import Pipeline\n",
    "from sklearn.impute import SimpleImputer\n",
    "from sklearn.preprocessing import StandardScaler, OneHotEncoder\n",
    "numeric_transformer = Pipeline(steps=[\n",
    "    ('imputer', SimpleImputer(strategy='median')),\n",
    "    ('scaler', StandardScaler())])\n",
    "categorical_transformer = Pipeline(steps=[\n",
    "    ('imputer', SimpleImputer(strategy='constant', fill_value='missing')),\n",
    "    ('onehot', OneHotEncoder(handle_unknown='ignore'))])"
   ]
  },
  {
   "cell_type": "code",
   "execution_count": 6,
   "metadata": {},
   "outputs": [
    {
     "data": {
      "text/plain": [
       "last_5_home       object\n",
       "last_5_away       object\n",
       "last_h_goals     float64\n",
       "last_a_goals     float64\n",
       "last_wh_goals    float64\n",
       "last_wa_goals    float64\n",
       "odd_1            float64\n",
       "odd_N            float64\n",
       "odd_2            float64\n",
       "winner           float64\n",
       "dtype: object"
      ]
     },
     "execution_count": 6,
     "metadata": {},
     "output_type": "execute_result"
    }
   ],
   "source": [
    "data.dtypes"
   ]
  },
  {
   "cell_type": "code",
   "execution_count": 7,
   "metadata": {},
   "outputs": [
    {
     "data": {
      "text/plain": [
       "(Index(['last_h_goals', 'last_a_goals', 'last_wh_goals', 'last_wa_goals',\n",
       "        'odd_1', 'odd_N', 'odd_2'],\n",
       "       dtype='object'),\n",
       " Index(['last_5_home', 'last_5_away'], dtype='object'))"
      ]
     },
     "execution_count": 7,
     "metadata": {},
     "output_type": "execute_result"
    }
   ],
   "source": [
    "numeric_features = data.select_dtypes(include=['int64', 'float64']).drop(['winner'], axis=1).columns\n",
    "categorical_features = data.select_dtypes(include=['object']).columns\n",
    "\n",
    "numeric_features, categorical_features"
   ]
  },
  {
   "cell_type": "code",
   "execution_count": 8,
   "metadata": {},
   "outputs": [],
   "source": [
    "from sklearn.compose import ColumnTransformer\n",
    "preprocessor = ColumnTransformer(\n",
    "    transformers=[\n",
    "        ('num', numeric_transformer, numeric_features),\n",
    "        ('cat', categorical_transformer, categorical_features)])"
   ]
  },
  {
   "cell_type": "code",
   "execution_count": 9,
   "metadata": {},
   "outputs": [],
   "source": [
    "# inster the code for a custom transform for the dataset\n",
    "from sklearn.base import BaseEstimator\n",
    "from sklearn.base import TransformerMixin\n",
    "import random\n",
    "class ComputeTrend(BaseEstimator, TransformerMixin):\n",
    "    def __init__(self):\n",
    "        self.initialization='OK'\n",
    "\n",
    "    def compute(result5):\n",
    "        return random.randint\n",
    "\n",
    "    def fit(self, X, y=None):\n",
    "        return self\n",
    "\n",
    "    def transform(self, X, y=None):\n",
    "        X_ = X.copy()\n",
    "        for idx, r in X_.iterrows():\n",
    "            try:\n",
    "                l = r.last_5_home.split('/')\n",
    "                l = list(map(lambda x: x.replace('Wa','7'),l))\n",
    "                l = list(map(lambda x: x.replace('Da','4'),l))\n",
    "                l = list(map(lambda x: x.replace('Wh','3'),l))\n",
    "                l = list(map(lambda x: x.replace('Dh','1'),l))\n",
    "                l = list(map(lambda x: x.replace('Lh','-2'),l))\n",
    "                l = list(map(lambda x: x.replace('La','0'),l))\n",
    "                l = pd.DataFrame(l)\n",
    "                l.columns=['trend']\n",
    "                s=np.arange(1,6)\n",
    "                model=np.polyfit(s,l.trend.astype(int).cumsum(),1)\n",
    "                X_.loc[idx,'home_trend_slope']=model[0]\n",
    "                X_.loc[idx,'home_trend_intercept']=model[1]\n",
    "\n",
    "                l = r.last_5_away.split('/')\n",
    "                l = list(map(lambda x: x.replace('Wa','7'),l))\n",
    "                l = list(map(lambda x: x.replace('Da','4'),l))\n",
    "                l = list(map(lambda x: x.replace('Wh','3'),l))\n",
    "                l = list(map(lambda x: x.replace('Dh','1'),l))\n",
    "                l = list(map(lambda x: x.replace('Lh','-2'),l))\n",
    "                l = list(map(lambda x: x.replace('La','0'),l))\n",
    "                l = pd.DataFrame(l)\n",
    "                l.columns=['trend']\n",
    "                s=np.arange(1,6)\n",
    "                model=np.polyfit(s,l.trend.astype(int).cumsum(),1)\n",
    "                X_.loc[idx,'away_trend_slope']=model[0]\n",
    "                X_.loc[idx,'away_trend_intercept']=model[1]\n",
    "            except:\n",
    "                X_.loc[idx,'home_trend_slope']=0\n",
    "                X_.loc[idx,'home_trend_intercept']=0\n",
    "                X_.loc[idx,'away_trend_slope']=0\n",
    "                X_.loc[idx,'away_trend_intercept']=0\n",
    "\n",
    "\n",
    "            \n",
    "        X_ = X_.drop(['last_5_home','last_5_away'], axis=1)\n",
    "        #print(X_.iloc[0,:])\n",
    "        #save the transformed dataset before returning it\n",
    "        TRANSFORMED_RAW_FILE = 'transformed_dataset_v1.csv'\n",
    "        X_.to_csv(f'{TABLE_FOLDER}/{TRANSFORMED_RAW_FILE}')\n",
    "        return X_\n",
    "\n",
    "\n",
    "\n",
    "    "
   ]
  },
  {
   "cell_type": "code",
   "execution_count": 10,
   "metadata": {},
   "outputs": [],
   "source": [
    "from sklearn.ensemble import RandomForestClassifier\n",
    "rf = Pipeline(steps=[ #('preprocessor', preprocessor),\n",
    "                    ('preprocessor', ComputeTrend()),\n",
    "                    ('scaler', StandardScaler()),\n",
    "                      ('classifier', RandomForestClassifier())])"
   ]
  },
  {
   "cell_type": "code",
   "execution_count": 11,
   "metadata": {},
   "outputs": [
    {
     "data": {
      "text/plain": [
       "Pipeline(steps=[('preprocessor', ComputeTrend()), ('scaler', StandardScaler()),\n",
       "                ('classifier', RandomForestClassifier())])"
      ]
     },
     "execution_count": 11,
     "metadata": {},
     "output_type": "execute_result"
    }
   ],
   "source": [
    "rf.fit(X_train, y_train)\n"
   ]
  },
  {
   "cell_type": "code",
   "execution_count": 12,
   "metadata": {},
   "outputs": [
    {
     "data": {
      "text/html": [
       "<div>\n",
       "<style scoped>\n",
       "    .dataframe tbody tr th:only-of-type {\n",
       "        vertical-align: middle;\n",
       "    }\n",
       "\n",
       "    .dataframe tbody tr th {\n",
       "        vertical-align: top;\n",
       "    }\n",
       "\n",
       "    .dataframe thead th {\n",
       "        text-align: right;\n",
       "    }\n",
       "</style>\n",
       "<table border=\"1\" class=\"dataframe\">\n",
       "  <thead>\n",
       "    <tr style=\"text-align: right;\">\n",
       "      <th></th>\n",
       "      <th>last_5_home</th>\n",
       "      <th>last_5_away</th>\n",
       "      <th>last_h_goals</th>\n",
       "      <th>last_a_goals</th>\n",
       "      <th>last_wh_goals</th>\n",
       "      <th>last_wa_goals</th>\n",
       "      <th>odd_1</th>\n",
       "      <th>odd_N</th>\n",
       "      <th>odd_2</th>\n",
       "    </tr>\n",
       "  </thead>\n",
       "  <tbody>\n",
       "    <tr>\n",
       "      <th>4538</th>\n",
       "      <td>La/Da/Wh/Da/Dh</td>\n",
       "      <td>Dh/Dh/Da/Dh/Wa</td>\n",
       "      <td>4.0</td>\n",
       "      <td>2.0</td>\n",
       "      <td>5.0</td>\n",
       "      <td>1.0</td>\n",
       "      <td>1.75</td>\n",
       "      <td>3.57</td>\n",
       "      <td>5.03</td>\n",
       "    </tr>\n",
       "    <tr>\n",
       "      <th>7690</th>\n",
       "      <td>Wa/Lh/La/Wh/Wa</td>\n",
       "      <td>Lh/Dh/Wa/Dh/La</td>\n",
       "      <td>7.0</td>\n",
       "      <td>5.0</td>\n",
       "      <td>8.0</td>\n",
       "      <td>6.0</td>\n",
       "      <td>2.04</td>\n",
       "      <td>3.52</td>\n",
       "      <td>3.76</td>\n",
       "    </tr>\n",
       "    <tr>\n",
       "      <th>4831</th>\n",
       "      <td>Da/Wh/La/Wh/Lh</td>\n",
       "      <td>Wh/Wa/Lh/La/Wh</td>\n",
       "      <td>11.0</td>\n",
       "      <td>5.0</td>\n",
       "      <td>11.0</td>\n",
       "      <td>9.0</td>\n",
       "      <td>1.50</td>\n",
       "      <td>4.57</td>\n",
       "      <td>6.24</td>\n",
       "    </tr>\n",
       "    <tr>\n",
       "      <th>2695</th>\n",
       "      <td>Wa/Da/Lh/Wh/Da</td>\n",
       "      <td>Wh/Wa/Lh/Wh/La</td>\n",
       "      <td>4.0</td>\n",
       "      <td>7.0</td>\n",
       "      <td>5.0</td>\n",
       "      <td>6.0</td>\n",
       "      <td>3.09</td>\n",
       "      <td>3.21</td>\n",
       "      <td>2.28</td>\n",
       "    </tr>\n",
       "    <tr>\n",
       "      <th>1987</th>\n",
       "      <td>La/Dh/La/Wh/La</td>\n",
       "      <td>Lh/Dh/La/La/Lh</td>\n",
       "      <td>9.0</td>\n",
       "      <td>2.0</td>\n",
       "      <td>7.0</td>\n",
       "      <td>8.0</td>\n",
       "      <td>1.55</td>\n",
       "      <td>3.51</td>\n",
       "      <td>6.35</td>\n",
       "    </tr>\n",
       "    <tr>\n",
       "      <th>...</th>\n",
       "      <td>...</td>\n",
       "      <td>...</td>\n",
       "      <td>...</td>\n",
       "      <td>...</td>\n",
       "      <td>...</td>\n",
       "      <td>...</td>\n",
       "      <td>...</td>\n",
       "      <td>...</td>\n",
       "      <td>...</td>\n",
       "    </tr>\n",
       "    <tr>\n",
       "      <th>2075</th>\n",
       "      <td>La/Wh/Da/Lh/La</td>\n",
       "      <td>Wh/La/Wh/Wh/La</td>\n",
       "      <td>6.0</td>\n",
       "      <td>7.0</td>\n",
       "      <td>5.0</td>\n",
       "      <td>4.0</td>\n",
       "      <td>2.49</td>\n",
       "      <td>3.12</td>\n",
       "      <td>2.69</td>\n",
       "    </tr>\n",
       "    <tr>\n",
       "      <th>7184</th>\n",
       "      <td>La/Dh/La/Wh/Lh</td>\n",
       "      <td>Wa/Wh/Wa/Wh/Wh</td>\n",
       "      <td>8.0</td>\n",
       "      <td>8.0</td>\n",
       "      <td>7.0</td>\n",
       "      <td>1.0</td>\n",
       "      <td>8.62</td>\n",
       "      <td>5.36</td>\n",
       "      <td>1.35</td>\n",
       "    </tr>\n",
       "    <tr>\n",
       "      <th>298</th>\n",
       "      <td>Da/Dh/Wa/Wh/Wh</td>\n",
       "      <td>La/Dh/Wa/Wh/Wh</td>\n",
       "      <td>2.0</td>\n",
       "      <td>15.0</td>\n",
       "      <td>6.0</td>\n",
       "      <td>5.0</td>\n",
       "      <td>3.85</td>\n",
       "      <td>2.90</td>\n",
       "      <td>1.90</td>\n",
       "    </tr>\n",
       "    <tr>\n",
       "      <th>4976</th>\n",
       "      <td>La/La/Wh/Da/Wh</td>\n",
       "      <td>Wh/Lh/Wa/Wh/Da</td>\n",
       "      <td>11.0</td>\n",
       "      <td>9.0</td>\n",
       "      <td>6.0</td>\n",
       "      <td>5.0</td>\n",
       "      <td>4.42</td>\n",
       "      <td>3.52</td>\n",
       "      <td>1.85</td>\n",
       "    </tr>\n",
       "    <tr>\n",
       "      <th>6081</th>\n",
       "      <td>Da/Dh/La/La/Wh</td>\n",
       "      <td>Wh/Lh/La/Wa/Wh</td>\n",
       "      <td>3.0</td>\n",
       "      <td>8.0</td>\n",
       "      <td>4.0</td>\n",
       "      <td>4.0</td>\n",
       "      <td>2.52</td>\n",
       "      <td>3.14</td>\n",
       "      <td>3.15</td>\n",
       "    </tr>\n",
       "  </tbody>\n",
       "</table>\n",
       "<p>6543 rows × 9 columns</p>\n",
       "</div>"
      ],
      "text/plain": [
       "         last_5_home     last_5_away  last_h_goals  last_a_goals  \\\n",
       "4538  La/Da/Wh/Da/Dh  Dh/Dh/Da/Dh/Wa           4.0           2.0   \n",
       "7690  Wa/Lh/La/Wh/Wa  Lh/Dh/Wa/Dh/La           7.0           5.0   \n",
       "4831  Da/Wh/La/Wh/Lh  Wh/Wa/Lh/La/Wh          11.0           5.0   \n",
       "2695  Wa/Da/Lh/Wh/Da  Wh/Wa/Lh/Wh/La           4.0           7.0   \n",
       "1987  La/Dh/La/Wh/La  Lh/Dh/La/La/Lh           9.0           2.0   \n",
       "...              ...             ...           ...           ...   \n",
       "2075  La/Wh/Da/Lh/La  Wh/La/Wh/Wh/La           6.0           7.0   \n",
       "7184  La/Dh/La/Wh/Lh  Wa/Wh/Wa/Wh/Wh           8.0           8.0   \n",
       "298   Da/Dh/Wa/Wh/Wh  La/Dh/Wa/Wh/Wh           2.0          15.0   \n",
       "4976  La/La/Wh/Da/Wh  Wh/Lh/Wa/Wh/Da          11.0           9.0   \n",
       "6081  Da/Dh/La/La/Wh  Wh/Lh/La/Wa/Wh           3.0           8.0   \n",
       "\n",
       "      last_wh_goals  last_wa_goals  odd_1  odd_N  odd_2  \n",
       "4538            5.0            1.0   1.75   3.57   5.03  \n",
       "7690            8.0            6.0   2.04   3.52   3.76  \n",
       "4831           11.0            9.0   1.50   4.57   6.24  \n",
       "2695            5.0            6.0   3.09   3.21   2.28  \n",
       "1987            7.0            8.0   1.55   3.51   6.35  \n",
       "...             ...            ...    ...    ...    ...  \n",
       "2075            5.0            4.0   2.49   3.12   2.69  \n",
       "7184            7.0            1.0   8.62   5.36   1.35  \n",
       "298             6.0            5.0   3.85   2.90   1.90  \n",
       "4976            6.0            5.0   4.42   3.52   1.85  \n",
       "6081            4.0            4.0   2.52   3.14   3.15  \n",
       "\n",
       "[6543 rows x 9 columns]"
      ]
     },
     "execution_count": 12,
     "metadata": {},
     "output_type": "execute_result"
    }
   ],
   "source": [
    "X_train"
   ]
  },
  {
   "cell_type": "code",
   "execution_count": 13,
   "metadata": {},
   "outputs": [],
   "source": [
    "y_pred = rf.predict(X_test)"
   ]
  },
  {
   "cell_type": "code",
   "execution_count": 14,
   "metadata": {},
   "outputs": [
    {
     "name": "stdout",
     "output_type": "stream",
     "text": [
      "KNeighborsClassifier(n_neighbors=3)\n",
      "model score: 0.458\n",
      "SVC(C=0.025, probability=True)\n",
      "model score: 0.531\n",
      "NuSVC(probability=True)\n",
      "model score: 0.472\n",
      "DecisionTreeClassifier()\n",
      "model score: 0.418\n",
      "RandomForestClassifier()\n",
      "model score: 0.525\n",
      "AdaBoostClassifier()\n",
      "model score: 0.540\n",
      "GradientBoostingClassifier()\n",
      "model score: 0.542\n"
     ]
    }
   ],
   "source": [
    "from sklearn.metrics import accuracy_score, log_loss\n",
    "from sklearn.neighbors import KNeighborsClassifier\n",
    "from sklearn.svm import SVC, LinearSVC, NuSVC\n",
    "from sklearn.tree import DecisionTreeClassifier\n",
    "from sklearn.ensemble import RandomForestClassifier, AdaBoostClassifier, GradientBoostingClassifier\n",
    "from sklearn.discriminant_analysis import LinearDiscriminantAnalysis\n",
    "from sklearn.discriminant_analysis import QuadraticDiscriminantAnalysis\n",
    "classifiers = [\n",
    "    KNeighborsClassifier(3),\n",
    "    SVC(kernel=\"rbf\", C=0.025, probability=True),\n",
    "    NuSVC(probability=True),\n",
    "    DecisionTreeClassifier(),\n",
    "    RandomForestClassifier(),\n",
    "    AdaBoostClassifier(),\n",
    "    GradientBoostingClassifier()\n",
    "    ]\n",
    "for classifier in classifiers:\n",
    "    pipe = Pipeline(steps=[('preprocessor', ComputeTrend()),\n",
    "                    ('scaler', StandardScaler()),\n",
    "                      ('classifier', classifier)])\n",
    "    pipe.fit(X_train, y_train)   \n",
    "    print(classifier)\n",
    "    print(\"model score: %.3f\" % pipe.score(X_test, y_test))"
   ]
  },
  {
   "cell_type": "code",
   "execution_count": 15,
   "metadata": {},
   "outputs": [],
   "source": [
    "param_grid = { \n",
    "    'classifier__n_estimators': [100],\n",
    "    'classifier__max_depth' : [26,28,22]}\n",
    "\n",
    "clf = RandomForestClassifier()\n",
    "pipe = Pipeline(steps=[('preprocessor', ComputeTrend()),\n",
    "                    ('scaler', StandardScaler()),\n",
    "                    ('classifier', clf)])\n",
    "from sklearn.model_selection import GridSearchCV\n",
    "CV = GridSearchCV(pipe, param_grid, n_jobs= 1)\n",
    "                  \n",
    "CV.fit(X_train, y_train)  \n",
    "print(CV.best_params_)    \n",
    "print(CV.best_score_)"
   ]
  },
  {
   "cell_type": "code",
   "execution_count": null,
   "metadata": {},
   "outputs": [],
   "source": [
    "row = data.sample(1).drop('winner',axis=1)\n",
    "\n",
    "CV.predict(row)"
   ]
  },
  {
   "cell_type": "code",
   "execution_count": null,
   "metadata": {},
   "outputs": [],
   "source": [
    "row.values"
   ]
  },
  {
   "cell_type": "code",
   "execution_count": null,
   "metadata": {},
   "outputs": [],
   "source": [
    "row"
   ]
  },
  {
   "cell_type": "code",
   "execution_count": null,
   "metadata": {},
   "outputs": [],
   "source": [
    "X_test"
   ]
  },
  {
   "cell_type": "code",
   "execution_count": null,
   "metadata": {},
   "outputs": [],
   "source": [
    "r=pd.DataFrame([['La/Dh/Da/Wh/La', 'Lh/La/Lh/Wa/Dh', 4, 2, 15, 4, 2.87, 3.41, 2.92]])\n",
    "r.columns=['last_5_home','last_5_away','last_h_goals','last_a_goals',\n",
    "            'last_wh_goals','last_wa_goals','odd_1','odd_N','odd_2']\n",
    "r"
   ]
  },
  {
   "cell_type": "code",
   "execution_count": null,
   "metadata": {},
   "outputs": [],
   "source": [
    "CV.predict_proba(r), CV.predict(r)"
   ]
  },
  {
   "cell_type": "code",
   "execution_count": null,
   "metadata": {},
   "outputs": [],
   "source": [
    "import pickle\n",
    "filename = 'finalized_model.sav'\n",
    "pickle.dump(CV, open(filename, 'wb'))\n",
    " \n",
    "# some time later...\n",
    " \n",
    "# load the model from disk\n",
    "loaded_model = pickle.load(open(filename, 'rb'))\n",
    "result = loaded_model.score(X_test, y_test)"
   ]
  },
  {
   "cell_type": "code",
   "execution_count": null,
   "metadata": {},
   "outputs": [],
   "source": [
    "result"
   ]
  },
  {
   "cell_type": "code",
   "execution_count": null,
   "metadata": {},
   "outputs": [],
   "source": [
    "loaded_model.predict_proba(r)"
   ]
  },
  {
   "cell_type": "code",
   "execution_count": null,
   "metadata": {},
   "outputs": [],
   "source": [
    "l = (['Wa','Da','Wh','Wh','Da'])\n",
    "l = list(map(lambda x: x.replace('Wa','7'),l))\n",
    "l = list(map(lambda x: x.replace('Da','4'),l))\n",
    "l = list(map(lambda x: x.replace('Wh','3'),l))\n",
    "l = list(map(lambda x: x.replace('Dh','1'),l))\n",
    "l = list(map(lambda x: x.replace('Lh','-2'),l))\n",
    "l = list(map(lambda x: x.replace('La','0'),l))\n",
    "l = pd.DataFrame(l)\n",
    "l.columns=['trend']\n",
    "s=np.arange(1,6)\n",
    "model=np.polyfit(s,l.trend.astype(int).cumsum(),1)\n",
    "print(model)\n"
   ]
  },
  {
   "cell_type": "code",
   "execution_count": null,
   "metadata": {},
   "outputs": [],
   "source": []
  }
 ],
 "metadata": {
  "kernelspec": {
   "display_name": "Python 3.8.8",
   "language": "python",
   "name": "python3"
  },
  "language_info": {
   "codemirror_mode": {
    "name": "ipython",
    "version": 3
   },
   "file_extension": ".py",
   "mimetype": "text/x-python",
   "name": "python",
   "nbconvert_exporter": "python",
   "pygments_lexer": "ipython3",
   "version": "3.8.8"
  },
  "orig_nbformat": 4,
  "vscode": {
   "interpreter": {
    "hash": "ab3f366bedf54b39e44c27c44adba3b5490d6e2929230bdba083ec5c84146c8a"
   }
  }
 },
 "nbformat": 4,
 "nbformat_minor": 2
}
