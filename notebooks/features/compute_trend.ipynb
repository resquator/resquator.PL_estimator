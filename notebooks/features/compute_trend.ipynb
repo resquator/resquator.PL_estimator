{
 "cells": [
  {
   "cell_type": "code",
   "execution_count": 60,
   "metadata": {},
   "outputs": [],
   "source": [
    "import pandas as pd \n",
    "import numpy as np \n",
    "\n",
    "\n",
    "\n"
   ]
  },
  {
   "cell_type": "code",
   "execution_count": 73,
   "metadata": {},
   "outputs": [
    {
     "data": {
      "image/png": "[encoded data removed]",
      "text/plain": [
       "<Figure size 432x288 with 1 Axes>"
      ]
     },
     "metadata": {
      "needs_background": "light"
     },
     "output_type": "display_data"
    }
   ],
   "source": [
    "r = [1,4,2,2,6]\n",
    "s = np.arange(1,6)\n",
    "\n",
    "df = pd.DataFrame()\n",
    "df['x']=s\n",
    "df['y']=r\n",
    "\n",
    "model = np.polyfit(df.x, df.y.cumsum(), 1)\n",
    "model\n",
    "new_line = '\\n'\n",
    "import matplotlib.pyplot as plt\n",
    "plt.plot(s,df.y.cumsum(),'bo')\n",
    "plt.title(f'{model**2}{new_line}{df.y.cumsum()}')\n",
    "plt.grid()\n",
    "plt.show()"
   ]
  },
  {
   "cell_type": "code",
   "execution_count": 63,
   "metadata": {},
   "outputs": [
    {
     "data": {
      "text/plain": [
       "0    1\n",
       "1   -2\n",
       "2   -4\n",
       "3   -6\n",
       "4   -5\n",
       "Name: y, dtype: int64"
      ]
     },
     "execution_count": 63,
     "metadata": {},
     "output_type": "execute_result"
    }
   ],
   "source": []
  },
  {
   "cell_type": "code",
   "execution_count": null,
   "metadata": {},
   "outputs": [],
   "source": []
  }
 ],
 "metadata": {
  "kernelspec": {
   "display_name": "Python 3.9.7",
   "language": "python",
   "name": "python3"
  },
  "language_info": {
   "codemirror_mode": {
    "name": "ipython",
    "version": 3
   },
   "file_extension": ".py",
   "mimetype": "text/x-python",
   "name": "python",
   "nbconvert_exporter": "python",
   "pygments_lexer": "ipython3",
   "version": "3.9.7"
  },
  "orig_nbformat": 4,
  "vscode": {
   "interpreter": {
    "hash": "cbc4fb49c7de93b809fdbd170752b4ee3b235a1aff228729de9802bf4ec66675"
   }
  }
 },
 "nbformat": 4,
 "nbformat_minor": 2
}
